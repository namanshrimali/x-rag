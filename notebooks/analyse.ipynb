{
 "cells": [
  {
   "cell_type": "code",
   "execution_count": 88,
   "source": [
    "# Reading and data and display sample\n",
    "\n",
    "import pandas as pd\n",
    "import os\n",
    "import torch\n",
    "from transformers import BertTokenizer\n",
    "from datasets import load_dataset, load_metric\n",
    "import time\n",
    "import json\n",
    "from pathlib import PurePath\n",
    "from torch.utils.data import Dataset, DataLoader\n",
    "\n",
    "import pytorch_lightning as pl\n",
    "from sklearn.model_selection import train_test_split\n",
    "\n",
    "\n",
    "device = \"cuda\" if torch.cuda.is_available() else \"cpu\"\n",
    "\n",
    "print(f'device is {device}')\n"
   ],
   "outputs": [
    {
     "output_type": "stream",
     "name": "stdout",
     "text": [
      "device is cpu\n"
     ]
    }
   ],
   "metadata": {}
  },
  {
   "cell_type": "code",
   "execution_count": 89,
   "source": [
    "pl.seed_everything(42)"
   ],
   "outputs": [
    {
     "output_type": "stream",
     "name": "stderr",
     "text": [
      "Global seed set to 42\n"
     ]
    },
    {
     "output_type": "execute_result",
     "data": {
      "text/plain": [
       "42"
      ]
     },
     "metadata": {},
     "execution_count": 89
    }
   ],
   "metadata": {}
  },
  {
   "cell_type": "code",
   "execution_count": 43,
   "source": [
    "file_path = 'data/nikhil_onlytextpytorch.json'\n",
    "\n",
    "path = os.path.join(os.getcwd(),file_path)\n",
    "\n",
    "train = pd.read_json(path, orient='index').reset_index()\n",
    "display(train)"
   ],
   "outputs": [
    {
     "output_type": "display_data",
     "data": {
      "text/plain": [
       "                                                  index  \\\n",
       "0     What values are specified to replaceNaN, posit...   \n",
       "1           By default,NaN is replaced with what value?   \n",
       "2     What values are used to replace negative infin...   \n",
       "3      What is the default value for negative infinity?   \n",
       "4     What is the value to replace positive infinity...   \n",
       "...                                                 ...   \n",
       "998   What is the tensor of shape where*is zero or m...   \n",
       "999   What is the tolerance value to determine when ...   \n",
       "1000        What is the default value of atorch.Tensor?   \n",
       "1001      What computes the inverse of a square matrix?   \n",
       "1002  What is the tensor of shape(*, m, n)where*is z...   \n",
       "\n",
       "                       answer  \\\n",
       "0     bynan,posinf, andneginf   \n",
       "1                        zero   \n",
       "2     bynan,posinf, andneginf   \n",
       "3      the least finite value   \n",
       "4                      posinf   \n",
       "...                       ...   \n",
       "998                 A(Tensor)   \n",
       "999                     rcond   \n",
       "1000                    1e-15   \n",
       "1001       torch.linalg.inv()   \n",
       "1002                A(Tensor)   \n",
       "\n",
       "                                               question  \\\n",
       "0     What values are specified to replaceNaN, posit...   \n",
       "1           By default,NaN is replaced with what value?   \n",
       "2     What values are used to replace negative infin...   \n",
       "3      What is the default value for negative infinity?   \n",
       "4     What is the value to replace positive infinity...   \n",
       "...                                                 ...   \n",
       "998   What is the tensor of shape where*is zero or m...   \n",
       "999   What is the tolerance value to determine when ...   \n",
       "1000        What is the default value of atorch.Tensor?   \n",
       "1001      What computes the inverse of a square matrix?   \n",
       "1002  What is the tensor of shape(*, m, n)where*is z...   \n",
       "\n",
       "                                                context  \\\n",
       "0     ReplacesNaN, positive infinity, and negative i...   \n",
       "1     ReplacesNaN, positive infinity, and negative i...   \n",
       "2     ReplacesNaN, positive infinity, and negative i...   \n",
       "3     ReplacesNaN, positive infinity, and negative i...   \n",
       "4     nan(Number,optional) – the value to replaceNaN...   \n",
       "...                                                 ...   \n",
       "998   torch.linalg.inv()computes the inverse of a sq...   \n",
       "999   torch.linalg.lstsq()computesA.pinv() @Bwith a\\...   \n",
       "1000  See also torch.linalg.inv()computes the invers...   \n",
       "1001  See also torch.linalg.inv()computes the invers...   \n",
       "1002  torch.linalg.lstsq()computesA.pinv() @Bwith a\\...   \n",
       "\n",
       "                                                 source  \n",
       "0     https://pytorch.org/docs/stable/generated/torc...  \n",
       "1     https://pytorch.org/docs/stable/generated/torc...  \n",
       "2     https://pytorch.org/docs/stable/generated/torc...  \n",
       "3     https://pytorch.org/docs/stable/generated/torc...  \n",
       "4     https://pytorch.org/docs/stable/generated/torc...  \n",
       "...                                                 ...  \n",
       "998   https://pytorch.org/docs/stable/generated/torc...  \n",
       "999   https://pytorch.org/docs/stable/generated/torc...  \n",
       "1000  https://pytorch.org/docs/stable/generated/torc...  \n",
       "1001  https://pytorch.org/docs/stable/generated/torc...  \n",
       "1002  https://pytorch.org/docs/stable/generated/torc...  \n",
       "\n",
       "[1003 rows x 5 columns]"
      ],
      "text/html": [
       "<div>\n",
       "<style scoped>\n",
       "    .dataframe tbody tr th:only-of-type {\n",
       "        vertical-align: middle;\n",
       "    }\n",
       "\n",
       "    .dataframe tbody tr th {\n",
       "        vertical-align: top;\n",
       "    }\n",
       "\n",
       "    .dataframe thead th {\n",
       "        text-align: right;\n",
       "    }\n",
       "</style>\n",
       "<table border=\"1\" class=\"dataframe\">\n",
       "  <thead>\n",
       "    <tr style=\"text-align: right;\">\n",
       "      <th></th>\n",
       "      <th>index</th>\n",
       "      <th>answer</th>\n",
       "      <th>question</th>\n",
       "      <th>context</th>\n",
       "      <th>source</th>\n",
       "    </tr>\n",
       "  </thead>\n",
       "  <tbody>\n",
       "    <tr>\n",
       "      <th>0</th>\n",
       "      <td>What values are specified to replaceNaN, posit...</td>\n",
       "      <td>bynan,posinf, andneginf</td>\n",
       "      <td>What values are specified to replaceNaN, posit...</td>\n",
       "      <td>ReplacesNaN, positive infinity, and negative i...</td>\n",
       "      <td>https://pytorch.org/docs/stable/generated/torc...</td>\n",
       "    </tr>\n",
       "    <tr>\n",
       "      <th>1</th>\n",
       "      <td>By default,NaN is replaced with what value?</td>\n",
       "      <td>zero</td>\n",
       "      <td>By default,NaN is replaced with what value?</td>\n",
       "      <td>ReplacesNaN, positive infinity, and negative i...</td>\n",
       "      <td>https://pytorch.org/docs/stable/generated/torc...</td>\n",
       "    </tr>\n",
       "    <tr>\n",
       "      <th>2</th>\n",
       "      <td>What values are used to replace negative infin...</td>\n",
       "      <td>bynan,posinf, andneginf</td>\n",
       "      <td>What values are used to replace negative infin...</td>\n",
       "      <td>ReplacesNaN, positive infinity, and negative i...</td>\n",
       "      <td>https://pytorch.org/docs/stable/generated/torc...</td>\n",
       "    </tr>\n",
       "    <tr>\n",
       "      <th>3</th>\n",
       "      <td>What is the default value for negative infinity?</td>\n",
       "      <td>the least finite value</td>\n",
       "      <td>What is the default value for negative infinity?</td>\n",
       "      <td>ReplacesNaN, positive infinity, and negative i...</td>\n",
       "      <td>https://pytorch.org/docs/stable/generated/torc...</td>\n",
       "    </tr>\n",
       "    <tr>\n",
       "      <th>4</th>\n",
       "      <td>What is the value to replace positive infinity...</td>\n",
       "      <td>posinf</td>\n",
       "      <td>What is the value to replace positive infinity...</td>\n",
       "      <td>nan(Number,optional) – the value to replaceNaN...</td>\n",
       "      <td>https://pytorch.org/docs/stable/generated/torc...</td>\n",
       "    </tr>\n",
       "    <tr>\n",
       "      <th>...</th>\n",
       "      <td>...</td>\n",
       "      <td>...</td>\n",
       "      <td>...</td>\n",
       "      <td>...</td>\n",
       "      <td>...</td>\n",
       "    </tr>\n",
       "    <tr>\n",
       "      <th>998</th>\n",
       "      <td>What is the tensor of shape where*is zero or m...</td>\n",
       "      <td>A(Tensor)</td>\n",
       "      <td>What is the tensor of shape where*is zero or m...</td>\n",
       "      <td>torch.linalg.inv()computes the inverse of a sq...</td>\n",
       "      <td>https://pytorch.org/docs/stable/generated/torc...</td>\n",
       "    </tr>\n",
       "    <tr>\n",
       "      <th>999</th>\n",
       "      <td>What is the tolerance value to determine when ...</td>\n",
       "      <td>rcond</td>\n",
       "      <td>What is the tolerance value to determine when ...</td>\n",
       "      <td>torch.linalg.lstsq()computesA.pinv() @Bwith a\\...</td>\n",
       "      <td>https://pytorch.org/docs/stable/generated/torc...</td>\n",
       "    </tr>\n",
       "    <tr>\n",
       "      <th>1000</th>\n",
       "      <td>What is the default value of atorch.Tensor?</td>\n",
       "      <td>1e-15</td>\n",
       "      <td>What is the default value of atorch.Tensor?</td>\n",
       "      <td>See also torch.linalg.inv()computes the invers...</td>\n",
       "      <td>https://pytorch.org/docs/stable/generated/torc...</td>\n",
       "    </tr>\n",
       "    <tr>\n",
       "      <th>1001</th>\n",
       "      <td>What computes the inverse of a square matrix?</td>\n",
       "      <td>torch.linalg.inv()</td>\n",
       "      <td>What computes the inverse of a square matrix?</td>\n",
       "      <td>See also torch.linalg.inv()computes the invers...</td>\n",
       "      <td>https://pytorch.org/docs/stable/generated/torc...</td>\n",
       "    </tr>\n",
       "    <tr>\n",
       "      <th>1002</th>\n",
       "      <td>What is the tensor of shape(*, m, n)where*is z...</td>\n",
       "      <td>A(Tensor)</td>\n",
       "      <td>What is the tensor of shape(*, m, n)where*is z...</td>\n",
       "      <td>torch.linalg.lstsq()computesA.pinv() @Bwith a\\...</td>\n",
       "      <td>https://pytorch.org/docs/stable/generated/torc...</td>\n",
       "    </tr>\n",
       "  </tbody>\n",
       "</table>\n",
       "<p>1003 rows × 5 columns</p>\n",
       "</div>"
      ]
     },
     "metadata": {}
    }
   ],
   "metadata": {}
  },
  {
   "cell_type": "code",
   "execution_count": 45,
   "source": [
    "train = (train[['question', 'answer']])\n"
   ],
   "outputs": [],
   "metadata": {}
  },
  {
   "cell_type": "code",
   "execution_count": 46,
   "source": [
    "display(train)"
   ],
   "outputs": [
    {
     "output_type": "display_data",
     "data": {
      "text/plain": [
       "                                               question  \\\n",
       "0     What values are specified to replaceNaN, posit...   \n",
       "1           By default,NaN is replaced with what value?   \n",
       "2     What values are used to replace negative infin...   \n",
       "3      What is the default value for negative infinity?   \n",
       "4     What is the value to replace positive infinity...   \n",
       "...                                                 ...   \n",
       "998   What is the tensor of shape where*is zero or m...   \n",
       "999   What is the tolerance value to determine when ...   \n",
       "1000        What is the default value of atorch.Tensor?   \n",
       "1001      What computes the inverse of a square matrix?   \n",
       "1002  What is the tensor of shape(*, m, n)where*is z...   \n",
       "\n",
       "                       answer  \n",
       "0     bynan,posinf, andneginf  \n",
       "1                        zero  \n",
       "2     bynan,posinf, andneginf  \n",
       "3      the least finite value  \n",
       "4                      posinf  \n",
       "...                       ...  \n",
       "998                 A(Tensor)  \n",
       "999                     rcond  \n",
       "1000                    1e-15  \n",
       "1001       torch.linalg.inv()  \n",
       "1002                A(Tensor)  \n",
       "\n",
       "[1003 rows x 2 columns]"
      ],
      "text/html": [
       "<div>\n",
       "<style scoped>\n",
       "    .dataframe tbody tr th:only-of-type {\n",
       "        vertical-align: middle;\n",
       "    }\n",
       "\n",
       "    .dataframe tbody tr th {\n",
       "        vertical-align: top;\n",
       "    }\n",
       "\n",
       "    .dataframe thead th {\n",
       "        text-align: right;\n",
       "    }\n",
       "</style>\n",
       "<table border=\"1\" class=\"dataframe\">\n",
       "  <thead>\n",
       "    <tr style=\"text-align: right;\">\n",
       "      <th></th>\n",
       "      <th>question</th>\n",
       "      <th>answer</th>\n",
       "    </tr>\n",
       "  </thead>\n",
       "  <tbody>\n",
       "    <tr>\n",
       "      <th>0</th>\n",
       "      <td>What values are specified to replaceNaN, posit...</td>\n",
       "      <td>bynan,posinf, andneginf</td>\n",
       "    </tr>\n",
       "    <tr>\n",
       "      <th>1</th>\n",
       "      <td>By default,NaN is replaced with what value?</td>\n",
       "      <td>zero</td>\n",
       "    </tr>\n",
       "    <tr>\n",
       "      <th>2</th>\n",
       "      <td>What values are used to replace negative infin...</td>\n",
       "      <td>bynan,posinf, andneginf</td>\n",
       "    </tr>\n",
       "    <tr>\n",
       "      <th>3</th>\n",
       "      <td>What is the default value for negative infinity?</td>\n",
       "      <td>the least finite value</td>\n",
       "    </tr>\n",
       "    <tr>\n",
       "      <th>4</th>\n",
       "      <td>What is the value to replace positive infinity...</td>\n",
       "      <td>posinf</td>\n",
       "    </tr>\n",
       "    <tr>\n",
       "      <th>...</th>\n",
       "      <td>...</td>\n",
       "      <td>...</td>\n",
       "    </tr>\n",
       "    <tr>\n",
       "      <th>998</th>\n",
       "      <td>What is the tensor of shape where*is zero or m...</td>\n",
       "      <td>A(Tensor)</td>\n",
       "    </tr>\n",
       "    <tr>\n",
       "      <th>999</th>\n",
       "      <td>What is the tolerance value to determine when ...</td>\n",
       "      <td>rcond</td>\n",
       "    </tr>\n",
       "    <tr>\n",
       "      <th>1000</th>\n",
       "      <td>What is the default value of atorch.Tensor?</td>\n",
       "      <td>1e-15</td>\n",
       "    </tr>\n",
       "    <tr>\n",
       "      <th>1001</th>\n",
       "      <td>What computes the inverse of a square matrix?</td>\n",
       "      <td>torch.linalg.inv()</td>\n",
       "    </tr>\n",
       "    <tr>\n",
       "      <th>1002</th>\n",
       "      <td>What is the tensor of shape(*, m, n)where*is z...</td>\n",
       "      <td>A(Tensor)</td>\n",
       "    </tr>\n",
       "  </tbody>\n",
       "</table>\n",
       "<p>1003 rows × 2 columns</p>\n",
       "</div>"
      ]
     },
     "metadata": {}
    }
   ],
   "metadata": {}
  },
  {
   "cell_type": "code",
   "execution_count": 47,
   "source": [
    "tokenizer = BertTokenizer.from_pretrained('bert-base-uncased')\n",
    "\n",
    "questions = tokenizer(list(train['question']), truncation=True, padding=True)\n",
    "answers = tokenizer(list(train['answer']), truncation=True, padding=True)\n",
    "\n",
    "train_labels = []"
   ],
   "outputs": [],
   "metadata": {}
  },
  {
   "cell_type": "code",
   "execution_count": 83,
   "source": [
    "# Lets decode and have a look at the sample dataset\n",
    "\n",
    "for x in zip(questions[\"input_ids\"][:2], answers[\"input_ids\"][:2]):\n",
    "    print(tokenizer.decode(x[0]), tokenizer.decode(x[1]))"
   ],
   "outputs": [
    {
     "output_type": "stream",
     "name": "stdout",
     "text": [
      "[CLS] what values are specified to replacenan, positive infinity, and negative infinity values in input? [SEP] [PAD] [PAD] [PAD] [PAD] [PAD] [PAD] [PAD] [PAD] [PAD] [PAD] [PAD] [PAD] [PAD] [PAD] [PAD] [CLS] bynan, posinf, andneginf [SEP] [PAD] [PAD] [PAD] [PAD] [PAD] [PAD] [PAD] [PAD] [PAD] [PAD] [PAD] [PAD] [PAD] [PAD] [PAD] [PAD] [PAD] [PAD] [PAD] [PAD] [PAD] [PAD] [PAD] [PAD] [PAD] [PAD] [PAD] [PAD] [PAD] [PAD] [PAD] [PAD] [PAD] [PAD] [PAD] [PAD] [PAD] [PAD] [PAD] [PAD] [PAD] [PAD] [PAD] [PAD] [PAD] [PAD] [PAD] [PAD] [PAD] [PAD] [PAD] [PAD] [PAD] [PAD] [PAD] [PAD] [PAD] [PAD] [PAD] [PAD] [PAD] [PAD] [PAD] [PAD] [PAD] [PAD] [PAD] [PAD] [PAD] [PAD] [PAD] [PAD] [PAD] [PAD] [PAD] [PAD] [PAD] [PAD] [PAD] [PAD] [PAD] [PAD] [PAD] [PAD] [PAD] [PAD] [PAD] [PAD] [PAD] [PAD] [PAD] [PAD] [PAD] [PAD] [PAD] [PAD] [PAD] [PAD] [PAD] [PAD] [PAD] [PAD] [PAD] [PAD] [PAD] [PAD] [PAD] [PAD] [PAD] [PAD] [PAD] [PAD] [PAD] [PAD]\n",
      "[CLS] by default, nan is replaced with what value? [SEP] [PAD] [PAD] [PAD] [PAD] [PAD] [PAD] [PAD] [PAD] [PAD] [PAD] [PAD] [PAD] [PAD] [PAD] [PAD] [PAD] [PAD] [PAD] [PAD] [PAD] [PAD] [PAD] [PAD] [CLS] zero [SEP] [PAD] [PAD] [PAD] [PAD] [PAD] [PAD] [PAD] [PAD] [PAD] [PAD] [PAD] [PAD] [PAD] [PAD] [PAD] [PAD] [PAD] [PAD] [PAD] [PAD] [PAD] [PAD] [PAD] [PAD] [PAD] [PAD] [PAD] [PAD] [PAD] [PAD] [PAD] [PAD] [PAD] [PAD] [PAD] [PAD] [PAD] [PAD] [PAD] [PAD] [PAD] [PAD] [PAD] [PAD] [PAD] [PAD] [PAD] [PAD] [PAD] [PAD] [PAD] [PAD] [PAD] [PAD] [PAD] [PAD] [PAD] [PAD] [PAD] [PAD] [PAD] [PAD] [PAD] [PAD] [PAD] [PAD] [PAD] [PAD] [PAD] [PAD] [PAD] [PAD] [PAD] [PAD] [PAD] [PAD] [PAD] [PAD] [PAD] [PAD] [PAD] [PAD] [PAD] [PAD] [PAD] [PAD] [PAD] [PAD] [PAD] [PAD] [PAD] [PAD] [PAD] [PAD] [PAD] [PAD] [PAD] [PAD] [PAD] [PAD] [PAD] [PAD] [PAD] [PAD] [PAD] [PAD] [PAD] [PAD] [PAD] [PAD] [PAD] [PAD] [PAD] [PAD] [PAD] [PAD] [PAD] [PAD] [PAD] [PAD] [PAD] [PAD] [PAD] [PAD]\n"
     ]
    }
   ],
   "metadata": {}
  },
  {
   "cell_type": "code",
   "execution_count": 55,
   "source": [
    "question_encoding = tokenizer(\n",
    "    train['question'][0],\n",
    "    return_attention_mask=True,\n",
    "    add_special_tokens=True,\n",
    "    return_tensors=\"pt\")"
   ],
   "outputs": [],
   "metadata": {}
  },
  {
   "cell_type": "code",
   "execution_count": 56,
   "source": [
    "answer_encoding = tokenizer(\n",
    "    train['answer'][0],\n",
    "    return_attention_mask=True,\n",
    "    add_special_tokens=True,\n",
    "    return_tensors=\"pt\")"
   ],
   "outputs": [],
   "metadata": {}
  },
  {
   "cell_type": "code",
   "execution_count": 57,
   "source": [
    "question_encoding.keys()"
   ],
   "outputs": [
    {
     "output_type": "execute_result",
     "data": {
      "text/plain": [
       "dict_keys(['input_ids', 'token_type_ids', 'attention_mask'])"
      ]
     },
     "metadata": {},
     "execution_count": 57
    }
   ],
   "metadata": {}
  },
  {
   "cell_type": "code",
   "execution_count": 58,
   "source": [
    "tokenizer.special_tokens_map"
   ],
   "outputs": [
    {
     "output_type": "execute_result",
     "data": {
      "text/plain": [
       "{'unk_token': '[UNK]',\n",
       " 'sep_token': '[SEP]',\n",
       " 'pad_token': '[PAD]',\n",
       " 'cls_token': '[CLS]',\n",
       " 'mask_token': '[MASK]'}"
      ]
     },
     "metadata": {},
     "execution_count": 58
    }
   ],
   "metadata": {}
  },
  {
   "cell_type": "code",
   "execution_count": 59,
   "source": [
    "tokenizer.decode(question_encoding['input_ids'].squeeze())"
   ],
   "outputs": [
    {
     "output_type": "execute_result",
     "data": {
      "text/plain": [
       "'[CLS] what values are specified to replacenan, positive infinity, and negative infinity values in input? [SEP]'"
      ]
     },
     "metadata": {},
     "execution_count": 59
    }
   ],
   "metadata": {}
  },
  {
   "cell_type": "code",
   "execution_count": 60,
   "source": [
    "tokenizer.decode(answer_encoding['input_ids'].squeeze())"
   ],
   "outputs": [
    {
     "output_type": "execute_result",
     "data": {
      "text/plain": [
       "'[CLS] bynan, posinf, andneginf [SEP]'"
      ]
     },
     "metadata": {},
     "execution_count": 60
    }
   ],
   "metadata": {}
  },
  {
   "cell_type": "code",
   "execution_count": 81,
   "source": [
    "import torch\n",
    "\n",
    "class text_tokenizer(torch.utils.data.Dataset):\n",
    "    def __init__(\n",
    "        self,\n",
    "        data:pd.DataFrame, \n",
    "        tokenizer:BertTokenizer,\n",
    "        column_name:str,\n",
    "        source_max_length: int=30,\n",
    "        ):\n",
    "\n",
    "        self.tokenizer = tokenizer\n",
    "        self.data = data\n",
    "        self.source_max_length = source_max_length\n",
    "        self.column_name = column_name\n",
    "\n",
    "\n",
    "    def __len__(self):\n",
    "        return len(self.data)\n",
    "\n",
    "\n",
    "    def __getitem__(self, index:int):\n",
    "        data_row = self.data.iloc[index]\n",
    "        encoding = tokenizer(\n",
    "            data_row[self.column_name],\n",
    "            max_length=self.source_max_length,\n",
    "            padding='max_length',\n",
    "            return_attention_mask=True,\n",
    "            add_special_tokens=True,\n",
    "            truncation=True,\n",
    "            return_tensors=\"pt\")\n",
    "\n",
    "\n",
    "        return dict(\n",
    "            text=data_row[self.column_name],\n",
    "            input_ids=encoding['input_ids'].flatten(),\n",
    "            attention_mask=encoding['attention_mask'].flatten()\n",
    "        )\n"
   ],
   "outputs": [],
   "metadata": {}
  },
  {
   "cell_type": "code",
   "execution_count": 82,
   "source": [
    "token_text = text_tokenizer(train, tokenizer, column_name='question')"
   ],
   "outputs": [],
   "metadata": {}
  },
  {
   "cell_type": "code",
   "execution_count": 91,
   "source": [
    "for data in token_text:\n",
    "    print(data)\n",
    "    break"
   ],
   "outputs": [
    {
     "output_type": "stream",
     "name": "stdout",
     "text": [
      "{'text': 'What values are specified to replaceNaN, positive infinity, and negative infinity values in input?', 'input_ids': tensor([  101,  2054,  5300,  2024,  9675,  2000,  5672,  7229,  1010,  3893,\n",
      "        15579,  1010,  1998,  4997, 15579,  5300,  1999,  7953,  1029,   102,\n",
      "            0,     0,     0,     0,     0,     0,     0,     0,     0,     0]), 'attention_mask': tensor([1, 1, 1, 1, 1, 1, 1, 1, 1, 1, 1, 1, 1, 1, 1, 1, 1, 1, 1, 1, 0, 0, 0, 0,\n",
      "        0, 0, 0, 0, 0, 0])}\n"
     ]
    }
   ],
   "metadata": {}
  },
  {
   "cell_type": "code",
   "execution_count": 90,
   "source": [
    "train_df, val_df = train_test_split(train, test_size=0.30)"
   ],
   "outputs": [],
   "metadata": {}
  },
  {
   "cell_type": "code",
   "execution_count": 95,
   "source": [
    "class QnaLoaders(pl.LightningDataModule):\n",
    "\n",
    "    def __init__(\n",
    "        self,\n",
    "        train_df:pd.DataFrame,\n",
    "        val_df:pd.DataFrame,\n",
    "        column_name:str,\n",
    "        tokenizer=tokenizer,\n",
    "        batch_size:int=8,\n",
    "        max_token_length:int=256\n",
    "        ):\n",
    "\n",
    "        super().__init__()\n",
    "        self.batch_size=batch_size\n",
    "        self.train_df = train_df\n",
    "        self.val_df = val_df,\n",
    "        self.tokenizer = tokenizer\n",
    "        self.max_token_length=max_token_length\n",
    "        self.column_name = column_name\n",
    "        \n",
    "    def setup(self):\n",
    "        self.train_dataset = text_tokenizer(\n",
    "            self.train_df,\n",
    "            self.tokenizer,\n",
    "            self.column_name,\n",
    "            self.max_token_length  \n",
    "        )\n",
    "\n",
    "        self.val_dataset = text_tokenizer(\n",
    "            self.val_df,\n",
    "            self.tokenizer,\n",
    "            self.column_name,\n",
    "            self.max_token_length  \n",
    "        )\n",
    "    \n",
    "    def train_dataloader(self):\n",
    "        return DataLoader(\n",
    "            self.train_dataset,\n",
    "            batch_size=self.batch_size,\n",
    "            shuffle=True,\n",
    "            num_workers=4\n",
    "        )\n",
    "\n",
    "    def val_dataloader(self):\n",
    "        return DataLoader(\n",
    "            self.val_dataset,\n",
    "            batch_size=self.batch_size,\n",
    "            shuffle=True,\n",
    "            num_workers=4\n",
    "        )\n",
    "    "
   ],
   "outputs": [],
   "metadata": {}
  },
  {
   "cell_type": "code",
   "execution_count": 96,
   "source": [
    "BATCH_SIZE = 32\n",
    "N_EPOCHS = 10\n",
    "\n",
    "data_module = QnaLoaders(train_df=train_df, val_df=val_df, tokenizer=tokenizer, column_name='question', batch_size=BATCH_SIZE, max_token_length=30)"
   ],
   "outputs": [],
   "metadata": {}
  },
  {
   "cell_type": "code",
   "execution_count": 97,
   "source": [
    "data_module.setup()\n"
   ],
   "outputs": [],
   "metadata": {}
  }
 ],
 "metadata": {
  "orig_nbformat": 4,
  "language_info": {
   "name": "python",
   "version": "3.8.11",
   "mimetype": "text/x-python",
   "codemirror_mode": {
    "name": "ipython",
    "version": 3
   },
   "pygments_lexer": "ipython3",
   "nbconvert_exporter": "python",
   "file_extension": ".py"
  },
  "kernelspec": {
   "name": "python3",
   "display_name": "Python 3.8.11 64-bit ('caps': conda)"
  },
  "interpreter": {
   "hash": "d964e81d6599016aee694e721ea343ca3a42c4f371ca966a53ff9f7507121df1"
  }
 },
 "nbformat": 4,
 "nbformat_minor": 2
}