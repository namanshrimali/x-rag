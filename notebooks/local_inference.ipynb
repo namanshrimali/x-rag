{
 "cells": [
  {
   "cell_type": "code",
   "execution_count": 1,
   "source": [
    "from utils import seed_all, get_device\n",
    "from models import BARTTrain, EnsembleTokens, Question_Model, GetEncodings, SearchSimilar, get_latest_checkpoint"
   ],
   "outputs": [
    {
     "output_type": "stream",
     "name": "stdout",
     "text": [
      "device is cpu\n"
     ]
    }
   ],
   "metadata": {}
  },
  {
   "cell_type": "code",
   "execution_count": 2,
   "source": [
    "# BERT imports\n",
    "\n",
    "device = get_device()\n",
    "print(device)\n",
    "\n",
    "from transformers import BartTokenizer\n",
    "tokenizer = BartTokenizer.from_pretrained('facebook/bart-base')\n",
    "import os\n"
   ],
   "outputs": [
    {
     "output_type": "stream",
     "name": "stdout",
     "text": [
      "Currently Running on cpu\n",
      "cpu\n"
     ]
    }
   ],
   "metadata": {}
  },
  {
   "cell_type": "code",
   "execution_count": 3,
   "source": [
    "# Inference\n",
    "import glob\n",
    "import torch\n",
    "\n",
    "MODEL_STORE = os.path.join(os.getcwd(), 'models_store')\n",
    "\n",
    "bart_model = BARTTrain().to(device)\n",
    "\n",
    "\n",
    "bart_model = get_latest_checkpoint('checkpoint', bart_model, MODEL_STORE)"
   ],
   "outputs": [
    {
     "output_type": "stream",
     "name": "stdout",
     "text": [
      "Loading model from checkpoint checkpoint-3100\n",
      "model successfully loaded checkpoint-3100\n"
     ]
    }
   ],
   "metadata": {}
  },
  {
   "cell_type": "code",
   "execution_count": 4,
   "source": [
    "# location = \n",
    "import pandas as pd\n",
    "import os\n",
    "df_context = pd.read_csv('data/latest_data/groups_master.csv') \n",
    "df_merged = pd.read_csv('data/latest_data/qna_gid.csv')\n",
    "model_op = torch.load('data/latest_data/encoded_context_348.pt')\n"
   ],
   "outputs": [],
   "metadata": {}
  },
  {
   "cell_type": "code",
   "execution_count": 5,
   "source": [
    "def inference(question, bart_tokenizer, bart_model, MODEL_STORE):\n",
    "\n",
    "    # Get Pretrained BERT encodings\n",
    "    ge = GetEncodings(MODEL_STORE = MODEL_STORE, type='questions')\n",
    "    encoded_question = ge.encode(question, max_length=30)\n",
    "\n",
    "    # Find top matching documents\n",
    "    ss = SearchSimilar(iterator = df_context['context'].values.tolist(), filename='index.bin', embeddings=model_op, shape=768, device=device)\n",
    "    similar_contexts = ss.get_n_similar_vectors(encoded_question, 3)\n",
    "    similar_contexts.insert(0, question)\n",
    "\n",
    "    combined_tokens = '</s></s>'.join(similar_contexts)\n",
    "\n",
    "    print(f'Top similar document outputs is {combined_tokens}')\n",
    "\n",
    "    # Prepare data for BART Inferencing\n",
    "\n",
    "    source_encoding = tokenizer(\n",
    "            combined_tokens,\n",
    "            max_length=1024,\n",
    "            padding='max_length',\n",
    "            add_special_tokens=True,\n",
    "            truncation=True,\n",
    "            return_tensors=\"pt\")\n",
    "   \n",
    "\n",
    "    # Inference BART Model\n",
    "    output = bart_model(\n",
    "            source_encoding['input_ids'].to(device),\n",
    "            mode = 'eval')\n",
    "    output = tokenizer.decode(output[0])\n",
    "    print(output)\n",
    "    return output\n"
   ],
   "outputs": [],
   "metadata": {}
  },
  {
   "cell_type": "code",
   "execution_count": 6,
   "source": [
    "MODEL_STORE = os.path.join(os.getcwd(), 'models_store')\n",
    "tokens = inference('What does torch.cosine loss do in pytorch?', tokenizer, bart_model, MODEL_STORE)\n"
   ],
   "outputs": [
    {
     "output_type": "stream",
     "name": "stderr",
     "text": [
      "Some weights of the model checkpoint at bert-base-uncased were not used when initializing BertModel: ['cls.predictions.transform.dense.weight', 'cls.predictions.transform.dense.bias', 'cls.predictions.decoder.weight', 'cls.seq_relationship.weight', 'cls.predictions.bias', 'cls.predictions.transform.LayerNorm.weight', 'cls.seq_relationship.bias', 'cls.predictions.transform.LayerNorm.bias']\n",
      "- This IS expected if you are initializing BertModel from the checkpoint of a model trained on another task or with another architecture (e.g. initializing a BertForSequenceClassification model from a BertForPreTraining model).\n",
      "- This IS NOT expected if you are initializing BertModel from the checkpoint of a model that you expect to be exactly identical (initializing a BertForSequenceClassification model from a BertForSequenceClassification model).\n"
     ]
    },
    {
     "output_type": "stream",
     "name": "stdout",
     "text": [
      "Loading model from checkpoint qna_checkpoint-4000\n"
     ]
    }
   ],
   "metadata": {}
  },
  {
   "cell_type": "code",
   "execution_count": null,
   "source": [
    "print(tokens)"
   ],
   "outputs": [
    {
     "output_type": "error",
     "ename": "Error",
     "evalue": "Kernel is dead",
     "traceback": [
      "Error: Kernel is dead",
      "at g._sendKernelShellControl (/Users/nik/.vscode/extensions/ms-toolsai.jupyter-2021.8.2041215044/out/client/extension.js:52:1006195)",
      "at g.sendShellMessage (/Users/nik/.vscode/extensions/ms-toolsai.jupyter-2021.8.2041215044/out/client/extension.js:52:1005964)",
      "at g.requestExecute (/Users/nik/.vscode/extensions/ms-toolsai.jupyter-2021.8.2041215044/out/client/extension.js:52:1008506)",
      "at d.requestExecute (/Users/nik/.vscode/extensions/ms-toolsai.jupyter-2021.8.2041215044/out/client/extension.js:37:325680)",
      "at w.requestExecute (/Users/nik/.vscode/extensions/ms-toolsai.jupyter-2021.8.2041215044/out/client/extension.js:32:18027)",
      "at w.executeCodeCell (/Users/nik/.vscode/extensions/ms-toolsai.jupyter-2021.8.2041215044/out/client/extension.js:52:301076)",
      "at w.execute (/Users/nik/.vscode/extensions/ms-toolsai.jupyter-2021.8.2041215044/out/client/extension.js:52:300703)",
      "at w.start (/Users/nik/.vscode/extensions/ms-toolsai.jupyter-2021.8.2041215044/out/client/extension.js:52:296367)",
      "at runMicrotasks (<anonymous>)",
      "at processTicksAndRejections (internal/process/task_queues.js:93:5)",
      "at async t.CellExecutionQueue.executeQueuedCells (/Users/nik/.vscode/extensions/ms-toolsai.jupyter-2021.8.2041215044/out/client/extension.js:52:311160)",
      "at async t.CellExecutionQueue.start (/Users/nik/.vscode/extensions/ms-toolsai.jupyter-2021.8.2041215044/out/client/extension.js:52:310700)"
     ]
    }
   ],
   "metadata": {}
  },
  {
   "cell_type": "code",
   "execution_count": null,
   "source": [
    "\n",
    "def get_latest_checkpoint(checkpoint, model, MODEL_STORE, q_string=''):\n",
    "\n",
    "    checkpoints = sorted(glob.glob(f'{MODEL_STORE}/{checkpoint}*-[0-9]*'))\n",
    "    if len(checkpoints):\n",
    "        global_step = int(checkpoints[0].split('-')[-1])\n",
    "        ckpt_name = '{}-{}'.format(checkpoint, global_step)\n",
    "        print(\"Loading model from checkpoint %s\" % ckpt_name)\n",
    "        \n",
    "        PATH = f'{MODEL_STORE}/{ckpt_name}/{checkpoint}{q_string}-{str(global_step)}.pt'\n",
    "        # PATH = f'{MODEL_STORE}/{ckpt_name}/q_checkpoint-{str(global_step-1)}.pt'\n",
    "        model.load_state_dict(torch.load(PATH, map_location=torch.device('cpu')))\n",
    "        print(\"model successfully loaded %s\" % ckpt_name)\n",
    "    \n",
    "    else:\n",
    "        print(\"No checkpoints available right now\")\n",
    "    return model\n",
    "\n",
    "bart_model = get_latest_checkpoint('checkpoint', bart_model, MODEL_STORE)\n",
    "\n",
    "\n",
    "\n",
    "def load_model(checkpoint, model, MODEL_STORE, q_string=''):\n",
    "\n",
    "    checkpoints = sorted(glob.glob(f'{MODEL_STORE}/{checkpoint}*-[0-9]*'))\n",
    "    global_step = int(checkpoints[0].split('-')[-1])\n",
    "    ckpt_name = '{}-{}'.format(checkpoint, global_step)\n",
    "    print(\"Loading model from checkpoint %s\" % ckpt_name)\n",
    "    \n",
    "    PATH = f'{MODEL_STORE}/{ckpt_name}/{checkpoint}{q_string}-{str(global_step-1)}.pt'\n",
    "    # PATH = f'{MODEL_STORE}/{ckpt_name}/q_checkpoint-{str(global_step-1)}.pt'\n",
    "    model.load_state_dict(torch.load(PATH))\n",
    "    print(\"model successfully loaded %s\" % ckpt_name)\n",
    "\n",
    "    return model"
   ],
   "outputs": [],
   "metadata": {}
  },
  {
   "cell_type": "code",
   "execution_count": null,
   "source": [
    "\n",
    "model = EnsembleTokens().to(device)\n",
    "model = get_latest_checkpoint(checkpoint='qna_checkpoint', model=model, MODEL_STORE=MODEL_STORE, q_string='')"
   ],
   "outputs": [],
   "metadata": {}
  },
  {
   "cell_type": "code",
   "execution_count": null,
   "source": [
    "ques_model = list(model.children())[0]"
   ],
   "outputs": [],
   "metadata": {}
  },
  {
   "cell_type": "code",
   "execution_count": null,
   "source": [
    "PATH = os.path.join(os.getcwd(), 'models_store/qna_checkpoint-4000/qna_checkpoint-4000-q.pt')\n",
    "\n",
    "torch.save(ques_model.state_dict(),PATH)"
   ],
   "outputs": [],
   "metadata": {}
  },
  {
   "cell_type": "code",
   "execution_count": null,
   "source": [],
   "outputs": [],
   "metadata": {}
  }
 ],
 "metadata": {
  "interpreter": {
   "hash": "d964e81d6599016aee694e721ea343ca3a42c4f371ca966a53ff9f7507121df1"
  },
  "kernelspec": {
   "name": "python3",
   "display_name": "Python 3.8.11 64-bit ('caps': conda)"
  },
  "language_info": {
   "codemirror_mode": {
    "name": "ipython",
    "version": 3
   },
   "file_extension": ".py",
   "mimetype": "text/x-python",
   "name": "python",
   "nbconvert_exporter": "python",
   "pygments_lexer": "ipython3",
   "version": "3.8.11"
  }
 },
 "nbformat": 4,
 "nbformat_minor": 4
}